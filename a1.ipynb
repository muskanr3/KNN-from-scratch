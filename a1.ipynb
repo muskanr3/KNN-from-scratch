{
 "cells": [
  {
   "cell_type": "code",
   "execution_count": null,
   "metadata": {},
   "outputs": [],
   "source": [
    "import numpy as np\n",
    "\n",
    "# Load the NumPy file with allow_pickle=True\n",
    "data = np.load('data.npy', allow_pickle=True)\n",
    "\n",
    "# View the contents\n",
    "print(data)\n"
   ]
  },
  {
   "cell_type": "code",
   "execution_count": null,
   "metadata": {},
   "outputs": [],
   "source": [
    "import pandas as pd\n",
    "df = pd.DataFrame(data)\n",
    "\n",
    "df"
   ]
  },
  {
   "cell_type": "code",
   "execution_count": null,
   "metadata": {},
   "outputs": [],
   "source": [
    "dict = {}\n",
    "for ind in df.index:\n",
    "    # print (df[3][ind])\n",
    "    if(dict.get(df[3][ind]) != None):\n",
    "        dict[df[3][ind]]+= 1\n",
    "    else:\n",
    "        dict[df[3][ind]]= 1\n",
    "\n",
    "print(dict)\n"
   ]
  },
  {
   "cell_type": "code",
   "execution_count": null,
   "metadata": {},
   "outputs": [],
   "source": [
    "import matplotlib.pyplot as plt\n",
    "\n",
    "for key in dict:\n",
    "    plt.bar(key, dict[key])\n",
    "\n",
    "plt.show()\n"
   ]
  },
  {
   "cell_type": "markdown",
   "metadata": {},
   "source": [
    "<h3> KNN FROM SCRATCH </h3>"
   ]
  },
  {
   "cell_type": "code",
   "execution_count": null,
   "metadata": {},
   "outputs": [],
   "source": [
    "np.random.seed(100)\n",
    "np.random.shuffle(data)\n",
    "\n",
    "\n",
    "splitind = int(len(data) * 4/5)\n",
    "\n",
    "trainarr = data[:splitind]\n",
    "testarr = data[splitind:]\n",
    "\n",
    "# print(trainarr[3])\n",
    "trainlabels = []\n",
    "testlabels = []\n",
    "for i in trainarr:\n",
    "    trainlabels.append(i[3])\n",
    "for i in testarr:\n",
    "    testlabels.append(i[3])\n",
    "print(len(trainlabels))"
   ]
  },
  {
   "cell_type": "markdown",
   "metadata": {},
   "source": [
    "<h3> euclidean distance </h3>"
   ]
  },
  {
   "cell_type": "code",
   "execution_count": null,
   "metadata": {},
   "outputs": [],
   "source": [
    "predlabels =  []\n",
    "for testrec in testarr:\n",
    "    kneighbours = {} # Initialize as an empty list\n",
    "    count = 0\n",
    "\n",
    "    for trainrec in trainarr:\n",
    "        # for resnet\n",
    "        diff = np.subtract(testrec[2], trainrec[2])\n",
    "        sq = np.square(diff)\n",
    "        axissum = np.sum(sq)\n",
    "        eucdist = np.sqrt(axissum)  # euc distance btw given test pt and train pt\n",
    "\n",
    "        kneighbours[count] = eucdist\n",
    "        count+=1\n",
    "    \n",
    "    labelsdict = {}\n",
    "    sorted_distances = sorted(kneighbours.items(), key=lambda x: x[1])\n",
    "\n",
    "    for i in range(0, 5):\n",
    "        index = sorted_distances[i][0]\n",
    "\n",
    "        if labelsdict.get(trainlabels[index]) is not None:\n",
    "            labelsdict[trainlabels[index]] += 1\n",
    "        else:\n",
    "            labelsdict[trainlabels[index]] = 1\n",
    "\n",
    "    sorted_labels = sorted(labelsdict.items(), key=lambda x: x[1], reverse=True)\n",
    "    # break\n",
    "    if len(sorted_labels) >= 2:\n",
    "        if sorted_labels[0][1] == sorted_labels[1][1]:\n",
    "            predlabels.append(trainlabels[sorted_distances[0][0]])\n",
    "        else:\n",
    "            predlabels.append(sorted_labels[0][0])\n",
    "    else:\n",
    "        # Handle the case where there are fewer than two elements in sorted_labels\n",
    "        predlabels.append(sorted_labels[0][0] if sorted_labels else None)\n"
   ]
  },
  {
   "cell_type": "markdown",
   "metadata": {},
   "source": [
    "<h3> manhattan distance </h3>"
   ]
  },
  {
   "cell_type": "code",
   "execution_count": null,
   "metadata": {},
   "outputs": [],
   "source": [
    "predlabels =  []\n",
    "for testrec in testarr:\n",
    "    kneighbours = {} # Initialize as an empty list\n",
    "    count = 0\n",
    "\n",
    "    for trainrec in trainarr:\n",
    "        # for resnet\n",
    "        diff = np.subtract(testrec[2], trainrec[2])\n",
    "        abso = np.abs(diff)\n",
    "        # axissum = \n",
    "        mandist = np.sum(abso) # euc distance btw given test pt and train pt\n",
    "\n",
    "        kneighbours[count] = mandist\n",
    "        count+=1\n",
    "    \n",
    "    labelsdict = {}\n",
    "    sorted_distances = sorted(kneighbours.items(), key=lambda x: x[1])\n",
    "\n",
    "    for i in range(0, 5):\n",
    "        index = sorted_distances[i][0]\n",
    "\n",
    "        if labelsdict.get(trainlabels[index]) is not None:\n",
    "            labelsdict[trainlabels[index]] += 1\n",
    "        else:\n",
    "            labelsdict[trainlabels[index]] = 1\n",
    "\n",
    "    sorted_labels = sorted(labelsdict.items(), key=lambda x: x[1], reverse=True)\n",
    "    # break\n",
    "    if len(sorted_labels) >= 2:\n",
    "        if sorted_labels[0][1] == sorted_labels[1][1]:\n",
    "            predlabels.append(trainlabels[sorted_distances[0][0]])\n",
    "        else:\n",
    "            predlabels.append(sorted_labels[0][0])\n",
    "    else:\n",
    "        # Handle the case where there are fewer than two elements in sorted_labels\n",
    "        predlabels.append(sorted_labels[0][0] if sorted_labels else None)\n"
   ]
  },
  {
   "cell_type": "code",
   "execution_count": null,
   "metadata": {},
   "outputs": [],
   "source": [
    "from sklearn.metrics import accuracy_score, precision_score, recall_score, f1_score\n",
    "accuracy = accuracy_score(testlabels, predlabels)\n",
    "precision = precision_score(testlabels, predlabels, average=\"macro\")\n",
    "recall = recall_score(testlabels, predlabels, average=\"macro\")\n",
    "f1 = f1_score(testlabels, predlabels, average=\"macro\")\n",
    "\n",
    "print(accuracy)\n",
    "print(precision)\n",
    "print(recall)\n",
    "print(f1)\n"
   ]
  },
  {
   "cell_type": "markdown",
   "metadata": {},
   "source": [
    "<H3> KNN CLASS </H3>"
   ]
  },
  {
   "cell_type": "code",
   "execution_count": null,
   "metadata": {},
   "outputs": [],
   "source": [
    "class Knn():\n",
    "    def __init__(self, k, encoder_name, distName, trainarr, testarr):\n",
    "        self.k = k\n",
    "        self.encoder = encoder_name\n",
    "        self.distMetric = distName\n",
    "        self.trainlabels = []\n",
    "        self.testlabels = []\n",
    "        self.predictedlabels = []\n",
    "        for i in trainarr:\n",
    "            self.trainlabels.append(i[3])\n",
    "        for i in testarr:\n",
    "            self.testlabels.append(i[3])\n",
    "            \n",
    "    def calcdist(self, test, train):\n",
    "        if self.distMetric == \"euclidean distance\":\n",
    "            diff = np.subtract(test, train)\n",
    "            sq = np.square(diff)\n",
    "            axissum = np.sum(sq)\n",
    "            eucdist = np.sqrt(axissum)\n",
    "            return eucdist\n",
    "        \n",
    "        elif self.distMetric == \"manhattan distance\":\n",
    "            diff = np.subtract(test, train)\n",
    "            abso = np.abs(diff)\n",
    "            mandist = np.sum(abso)\n",
    "            return mandist\n",
    "        # elif self.distMetric == \"cosine distance\":\n",
    "        else:\n",
    "            print(\"invalid distance type\")\n",
    "            return\n",
    "            \n",
    "    def predict(self):\n",
    "        predlabels =  []\n",
    "        for testrec in testarr:\n",
    "            kneighbours = {} # Initialize as an empty list\n",
    "            count = 0\n",
    "\n",
    "            for trainrec in trainarr:\n",
    "                # for resnet\n",
    "                if(self.encoder == \"resnet\"):\n",
    "                    dist = self.calcdist(testrec[1], trainrec[1])\n",
    "                elif(self.encoder == \"vit\"):\n",
    "                    dist = self.calcdist(testrec[2], trainrec[2])\n",
    "                else:\n",
    "                    print(\"invalid encoder type\")\n",
    "                    return\n",
    "                \n",
    "                kneighbours[count] = dist\n",
    "                count+=1\n",
    "            \n",
    "            labelsdict = {}\n",
    "            sorted_distances = sorted(kneighbours.items(), key=lambda x: x[1])\n",
    "\n",
    "            for i in range(0, self.k):\n",
    "                index = sorted_distances[i][0]\n",
    "\n",
    "                if labelsdict.get(trainlabels[index]) is not None:\n",
    "                    labelsdict[trainlabels[index]] += 1\n",
    "                else:\n",
    "                    labelsdict[trainlabels[index]] = 1\n",
    "\n",
    "            sorted_labels = sorted(labelsdict.items(), key=lambda x: x[1], reverse=True)\n",
    "            # break\n",
    "            if len(sorted_labels) >= 2:\n",
    "                if sorted_labels[0][1] == sorted_labels[1][1]:\n",
    "                    predlabels.append(trainlabels[sorted_distances[0][0]])\n",
    "                else:\n",
    "                    predlabels.append(sorted_labels[0][0])\n",
    "            else:\n",
    "                # Handle the case where there are fewer than two elements in sorted_labels\n",
    "                predlabels.append(sorted_labels[0][0] if sorted_labels else None)\n",
    "            # print(\"hi\")\n",
    "        self.predictedlabels = predlabels\n",
    "        return \n",
    "    \n",
    "    def metrics(self):\n",
    "        # self.predict()\n",
    "        accuracy = accuracy_score(self.testlabels, self.predictedlabels)\n",
    "        precision = precision_score(self.testlabels, self.predictedlabels, average=\"macro\")\n",
    "        recall = recall_score(self.testlabels, self.predictedlabels, average=\"macro\")\n",
    "        f1 = f1_score(self.testlabels, self.predictedlabels, average=\"macro\")\n",
    "        \n",
    "        # print(accuracy)\n",
    "        # print(precision)\n",
    "        # print(recall)\n",
    "        # print(f1)\n",
    "        return accuracy"
   ]
  },
  {
   "cell_type": "markdown",
   "metadata": {},
   "source": [
    "<H3> ACCURACY, PRECISION, RECALL, F1 SCORE </H3>"
   ]
  },
  {
   "cell_type": "code",
   "execution_count": null,
   "metadata": {},
   "outputs": [],
   "source": [
    "knnobj = Knn(5, \"vit\", \"manhattan distance\", trainarr, testarr)\n",
    "knnobj.predict()\n",
    "knnobj.metrics()"
   ]
  },
  {
   "cell_type": "markdown",
   "metadata": {},
   "source": [
    "<h2> BEST COMBINATION OF PARAMETERS </H2>"
   ]
  },
  {
   "cell_type": "code",
   "execution_count": null,
   "metadata": {},
   "outputs": [],
   "source": [
    "from sklearn.metrics import accuracy_score, precision_score, recall_score, f1_score\n",
    "import warnings\n",
    "warnings.filterwarnings('ignore')\n",
    "\n",
    "distance = [\"manhattan distance\", \"euclidean distance\"]\n",
    "encoder = [\"resnet\", \"vit\"]\n",
    "combinations = []\n",
    "for k in range(1, 150):\n",
    "    for enc in encoder:\n",
    "        for dis in distance:\n",
    "            knnInstance = Knn(k, enc, dis, trainarr, testarr)\n",
    "            knnInstance.predict()\n",
    "            acc = knnInstance.metrics()\n",
    "            combinations.append([k, enc, dis, acc])\n",
    "\n",
    "combinations.sort(key=lambda x: x[3], reverse=True)\n",
    "for i in range(min(20, len(combinations))):\n",
    "    print(f\"Combination {i + 1}: k={combinations[i][0]}, encoder={combinations[i][1]}, distance={combinations[i][2]}, accuracy={combinations[i][3]}\")\n"
   ]
  },
  {
   "cell_type": "code",
   "execution_count": null,
   "metadata": {},
   "outputs": [],
   "source": [
    "\n",
    "distance = [\"manhattan distance\"]\n",
    "encoder = [\"resnet\"]\n",
    "# combinations = []\n",
    "x = []\n",
    "y = []\n",
    "for k in range(1, 150):\n",
    "    for enc in encoder:\n",
    "        for dis in distance:\n",
    "            knnInstance = Knn(k, enc, dis, trainarr, testarr)\n",
    "            knnInstance.predict()\n",
    "            acc = knnInstance.metrics()\n",
    "            x.append(k)\n",
    "            y.append(acc)\n",
    "            print(\"k = \", k, end = \"\\t\")\n",
    "            print(\"accuracy = \", acc)\n"
   ]
  },
  {
   "cell_type": "code",
   "execution_count": null,
   "metadata": {},
   "outputs": [],
   "source": [
    "import matplotlib.pyplot as plt\n",
    "plt.xlabel(\"k value\")\n",
    "plt.ylabel(\"accuracy\")\n",
    "plt.title(\"k vs accuracy for RESNET\")\n",
    "plt.plot(x,y)\n",
    "plt.show()"
   ]
  }
 ],
 "metadata": {
  "kernelspec": {
   "display_name": "Python 3",
   "language": "python",
   "name": "python3"
  },
  "language_info": {
   "codemirror_mode": {
    "name": "ipython",
    "version": 3
   },
   "file_extension": ".py",
   "mimetype": "text/x-python",
   "name": "python",
   "nbconvert_exporter": "python",
   "pygments_lexer": "ipython3",
   "version": "3.10.12"
  }
 },
 "nbformat": 4,
 "nbformat_minor": 2
}
